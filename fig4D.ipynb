{
 "cells": [
  {
   "cell_type": "code",
   "execution_count": 1,
   "id": "bbadd685-5f0a-41e3-8342-cc480efa60ed",
   "metadata": {},
   "outputs": [],
   "source": [
    "from workflow.modules import *\n",
    "import resources\n",
    "\n",
    "%load_ext autoreload\n",
    "%autoreload 2"
   ]
  },
  {
   "cell_type": "code",
   "execution_count": 2,
   "id": "01a1814d-23f1-4164-9a23-f1daadef3e6c",
   "metadata": {},
   "outputs": [
    {
     "name": "stdout",
     "output_type": "stream",
     "text": [
      "3,578 structures without any SWISS-MODEL structures (experimental or homology)\n",
      "912 structures with enzyme-like size (100 to 500 residues), and above-average confidence (mean pLDDT >= 70)\n",
      "170 previously annotated as enzymes (EC number and/or a catalytic activity annotation\n",
      "449 have a high-confidence (mean pLDDT >= 90) pocket with an AutoSite score similar to ground truth UBS binding sites (~35)\n"
     ]
    },
    {
     "data": {
      "image/png": "[encoded data removed]",
      "text/plain": [
       "<Figure size 367.2x367.2 with 1 Axes>"
      ]
     },
     "metadata": {
      "needs_background": "light"
     },
     "output_type": "display_data"
    }
   ],
   "source": [
    "fp_ = 'fig4D.tsv'\n",
    "df_ = pd.read_csv(fp_, sep='\\t')\n",
    "print(f'{uf(len(df_))} structures without any SWISS-MODEL structures (experimental or homology)')\n",
    "df_ = df_.query('(mean_pLDDT >= 70) & (100 <= n_resid) & (n_resid <= 500)')\n",
    "print(f'{uf(len(df_))} structures with enzyme-like size (100 to 500 residues), and above-average confidence (mean pLDDT >= 70)')\n",
    "print(f'{uf(len(df_.query(\"has_activity == True\")))} previously annotated as enzymes (EC number and/or a catalytic activity annotation')\n",
    "print(f'{uf(len(df_.query(\"autosite_score_90 >= 35\")))} have a high-confidence (mean pLDDT >= 90) pocket with an AutoSite score similar to ground truth UBS binding sites (~35)')\n",
    "\n",
    "def auc_(*args, **kwargs):\n",
    "    fpr, tpr, thresholds = sk.metrics.roc_curve(*args, **kwargs)\n",
    "    auc = sk.metrics.roc_auc_score(*args, **kwargs)\n",
    "    return(fpr, tpr, thresholds, auc)\n",
    "\n",
    "def roc_(*args, label, color, **kwargs):\n",
    "    fpr, tpr, thresholds, auc = auc_(*args, **kwargs)\n",
    "    plt.plot(fpr, tpr, label=f'{label}, AUC={auc:.2f}', color=color)\n",
    "    #sns.lineplot(fpr, tpr, label=f'{label}, AUC={auc:.2f}')\n",
    "\n",
    "def legend_():\n",
    "    plt.gca().set_xlim(0, 1)\n",
    "    plt.gca().set_ylim(0, 1)\n",
    "    plt.gca().set_aspect('equal')\n",
    "    plt.plot([0, 1], [0, 1], color='gray', linestyle='dotted')\n",
    "    plt.gca().set_xlabel('FPR')\n",
    "    plt.gca().set_ylabel('TPR')\n",
    "    plt.legend(loc='lower right')\n",
    "\n",
    "plt.figure(figsize=(5.1,5.1))\n",
    "n_ec_ = len(df_.query(\"has_activity == True\"))\n",
    "plt.title(f'Pocket scores as predictors of catalytic activity\\n({uf(n_ec_)} of {uf(len(df_))} structures annotated as enzymes)')\n",
    "roc_(y_true=df_['has_activity'].astype(int), y_score=df_['autosite_score'].fillna(0), label='raw pockets', color='tab:orange')\n",
    "roc_(y_true=df_['has_activity'].astype(int), y_score=df_['autosite_score_90'].fillna(0), label='mean pocket pLDDT >= 90', color='tab:blue')\n",
    "legend_()\n",
    "plt.savefig('fig4D.pdf', bbox_inches='tight', transparent=True)"
   ]
  },
  {
   "cell_type": "code",
   "execution_count": 3,
   "id": "4d059536-61b6-45a3-997f-ab1f0343a065",
   "metadata": {},
   "outputs": [
    {
     "data": {
      "text/html": [
       "<div>\n",
       "<style scoped>\n",
       "    .dataframe tbody tr th:only-of-type {\n",
       "        vertical-align: middle;\n",
       "    }\n",
       "\n",
       "    .dataframe tbody tr th {\n",
       "        vertical-align: top;\n",
       "    }\n",
       "\n",
       "    .dataframe thead th {\n",
       "        text-align: right;\n",
       "    }\n",
       "</style>\n",
       "<table border=\"1\" class=\"dataframe\">\n",
       "  <thead>\n",
       "    <tr style=\"text-align: right;\">\n",
       "      <th></th>\n",
       "      <th>autosite_score</th>\n",
       "      <th>autosite_score_50</th>\n",
       "      <th>autosite_score_70</th>\n",
       "      <th>autosite_score_90</th>\n",
       "      <th>autosite_score_95</th>\n",
       "    </tr>\n",
       "    <tr>\n",
       "      <th>UniProtKB_ac</th>\n",
       "      <th></th>\n",
       "      <th></th>\n",
       "      <th></th>\n",
       "      <th></th>\n",
       "      <th></th>\n",
       "    </tr>\n",
       "  </thead>\n",
       "  <tbody>\n",
       "    <tr>\n",
       "      <th>O15121</th>\n",
       "      <td>0.845395</td>\n",
       "      <td>0.845395</td>\n",
       "      <td>0.857456</td>\n",
       "      <td>0.938596</td>\n",
       "      <td>0.987939</td>\n",
       "    </tr>\n",
       "  </tbody>\n",
       "</table>\n",
       "</div>"
      ],
      "text/plain": [
       "              autosite_score  autosite_score_50  autosite_score_70  \\\n",
       "UniProtKB_ac                                                         \n",
       "O15121              0.845395           0.845395           0.857456   \n",
       "\n",
       "              autosite_score_90  autosite_score_95  \n",
       "UniProtKB_ac                                        \n",
       "O15121                 0.938596           0.987939  "
      ]
     },
     "execution_count": 3,
     "metadata": {},
     "output_type": "execute_result"
    }
   ],
   "source": [
    "# Percentile-rank of example discussed on Figs 4E,F (O15121)\n",
    "cols_ = ['autosite_score', 'autosite_score_50', 'autosite_score_70', 'autosite_score_90', 'autosite_score_95']\n",
    "df_.set_index('UniProtKB_ac')[cols_].rank(pct=True).query('UniProtKB_ac == \"O15121\"')"
   ]
  },
  {
   "cell_type": "code",
   "execution_count": 4,
   "id": "7225ecb4-7604-45d4-b881-5712f18a2bfe",
   "metadata": {},
   "outputs": [
    {
     "name": "stdout",
     "output_type": "stream",
     "text": [
      "912 structures evaluated in total\n"
     ]
    },
    {
     "data": {
      "text/html": [
       "<div>\n",
       "<style scoped>\n",
       "    .dataframe tbody tr th:only-of-type {\n",
       "        vertical-align: middle;\n",
       "    }\n",
       "\n",
       "    .dataframe tbody tr th {\n",
       "        vertical-align: top;\n",
       "    }\n",
       "\n",
       "    .dataframe thead th {\n",
       "        text-align: right;\n",
       "    }\n",
       "</style>\n",
       "<table border=\"1\" class=\"dataframe\">\n",
       "  <thead>\n",
       "    <tr style=\"text-align: right;\">\n",
       "      <th></th>\n",
       "      <th>autosite_score</th>\n",
       "      <th>autosite_score_50</th>\n",
       "      <th>autosite_score_70</th>\n",
       "      <th>autosite_score_90</th>\n",
       "      <th>autosite_score_95</th>\n",
       "    </tr>\n",
       "    <tr>\n",
       "      <th>UniProtKB_ac</th>\n",
       "      <th></th>\n",
       "      <th></th>\n",
       "      <th></th>\n",
       "      <th></th>\n",
       "      <th></th>\n",
       "    </tr>\n",
       "  </thead>\n",
       "  <tbody>\n",
       "    <tr>\n",
       "      <th>O15121</th>\n",
       "      <td>142.0</td>\n",
       "      <td>142.0</td>\n",
       "      <td>131.0</td>\n",
       "      <td>57.0</td>\n",
       "      <td>12.0</td>\n",
       "    </tr>\n",
       "  </tbody>\n",
       "</table>\n",
       "</div>"
      ],
      "text/plain": [
       "              autosite_score  autosite_score_50  autosite_score_70  \\\n",
       "UniProtKB_ac                                                         \n",
       "O15121                 142.0              142.0              131.0   \n",
       "\n",
       "              autosite_score_90  autosite_score_95  \n",
       "UniProtKB_ac                                        \n",
       "O15121                     57.0               12.0  "
      ]
     },
     "execution_count": 4,
     "metadata": {},
     "output_type": "execute_result"
    }
   ],
   "source": [
    "print(len(df_), 'structures evaluated in total')\n",
    "df_.set_index('UniProtKB_ac')[cols_].rank(pct=False, ascending=False).query('UniProtKB_ac == \"O15121\"')"
   ]
  },
  {
   "cell_type": "code",
   "execution_count": 5,
   "id": "f3149482-ebf0-4dc9-85fa-5f3fcb506bbf",
   "metadata": {},
   "outputs": [],
   "source": [
    "df_[['UniProtKB_ac', 'has_activity', 'autosite_score', 'autosite_score_90']].to_csv('Table_S3.tsv', sep='\\t', index=False)"
   ]
  },
  {
   "cell_type": "code",
   "execution_count": null,
   "id": "d1569022-c0e1-411b-bf1a-09039c3e2622",
   "metadata": {},
   "outputs": [],
   "source": []
  }
 ],
 "metadata": {
  "kernelspec": {
   "display_name": "Python 3",
   "language": "python",
   "name": "python3"
  },
  "language_info": {
   "codemirror_mode": {
    "name": "ipython",
    "version": 3
   },
   "file_extension": ".py",
   "mimetype": "text/x-python",
   "name": "python",
   "nbconvert_exporter": "python",
   "pygments_lexer": "ipython3",
   "version": "3.6.13"
  }
 },
 "nbformat": 4,
 "nbformat_minor": 5
}
