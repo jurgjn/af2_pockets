{
 "cells": [
  {
   "cell_type": "code",
   "execution_count": null,
   "id": "bbadd685-5f0a-41e3-8342-cc480efa60ed",
   "metadata": {},
   "outputs": [],
   "source": [
    "from workflow.modules import *\n",
    "import resources\n",
    "\n",
    "%load_ext autoreload\n",
    "%autoreload 2"
   ]
  },
  {
   "cell_type": "code",
   "execution_count": null,
   "id": "01a1814d-23f1-4164-9a23-f1daadef3e6c",
   "metadata": {},
   "outputs": [],
   "source": [
    "fp_ = 'fig4D.tsv'\n",
    "df_ = pd.read_csv(fp_, sep='\\t')\n",
    "print(f'{uf(len(df_))} structures without any SWISS-MODEL structures (experimental or homology)')\n",
    "df_ = df_.query('(mean_pLDDT >= 50) & (100 <= n_resid) & (n_resid <= 500)')\n",
    "print(f'{uf(len(df_))} structures with enzyme-like size (100 to 500 residues), and above-average confidence (mean pLDDT >= 50)')\n",
    "print(f'{uf(len(df_.query(\"has_activity == True\")))} previously annotated as enzymes (EC number and/or a catalytic activity annotation')\n",
    "print(f'{uf(len(df_.query(\"autosite_score_90 >= 35\")))} have a high-confidence (mean pLDDT >= 90) pocket with an AutoSite score similar to ground truth UBS binding sites (~35)')\n",
    "\n",
    "def auc_(*args, **kwargs):\n",
    "    fpr, tpr, thresholds = sk.metrics.roc_curve(*args, **kwargs)\n",
    "    auc = sk.metrics.roc_auc_score(*args, **kwargs)\n",
    "    return(fpr, tpr, thresholds, auc)\n",
    "\n",
    "def roc_(*args, label, **kwargs):\n",
    "    fpr, tpr, thresholds, auc = auc_(*args, **kwargs)\n",
    "    plt.plot(fpr, tpr, label=f'{label}, AUC={auc:.2f}')\n",
    "\n",
    "def legend_():\n",
    "    plt.gca().set_xlim(0, 1)\n",
    "    plt.gca().set_ylim(0, 1)\n",
    "    plt.gca().set_aspect('equal')\n",
    "    plt.plot([0, 1], [0, 1], color='gray', linestyle='dotted')\n",
    "    plt.gca().set_xlabel('FPR')\n",
    "    plt.gca().set_ylabel('TPR')\n",
    "    plt.legend(loc='lower right')\n",
    "\n",
    "plt.figure(figsize=(5.1,5.1))\n",
    "plt.title(f'Pocket scores as predictors of catalytic activity\\n(n={uf(len(df_))} structures)')\n",
    "roc_(y_true=df_['has_activity'].astype(int), y_score=df_['autosite_score'].fillna(0), label='raw pockets')\n",
    "roc_(y_true=df_['has_activity'].astype(int), y_score=df_['autosite_score_90'].fillna(0), label='mean pocket pLDDT >= 90')\n",
    "legend_()\n",
    "plt.savefig('fig4D.pdf', bbox_inches='tight', transparent=True)"
   ]
  },
  {
   "cell_type": "code",
   "execution_count": null,
   "id": "4d059536-61b6-45a3-997f-ab1f0343a065",
   "metadata": {},
   "outputs": [],
   "source": [
    "# Percentile-rank of example discussed on Figs 4E,F (O15121)\n",
    "cols_ = ['autosite_score', 'autosite_score_50', 'autosite_score_70', 'autosite_score_90', 'autosite_score_95']\n",
    "df_.set_index('UniProtKB_ac')[cols_].rank(pct=True).query('UniProtKB_ac == \"O15121\"')"
   ]
  }
 ],
 "metadata": {
  "kernelspec": {
   "display_name": "Python 3",
   "language": "python",
   "name": "python3"
  },
  "language_info": {
   "codemirror_mode": {
    "name": "ipython",
    "version": 3
   },
   "file_extension": ".py",
   "mimetype": "text/x-python",
   "name": "python",
   "nbconvert_exporter": "python",
   "pygments_lexer": "ipython3",
   "version": "3.6.13"
  }
 },
 "nbformat": 4,
 "nbformat_minor": 5
}
